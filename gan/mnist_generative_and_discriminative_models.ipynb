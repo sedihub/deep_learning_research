{
 "cells": [
  {
   "cell_type": "markdown",
   "metadata": {},
   "source": [
    "# Generative Discriminative Models for the MNIST Dataset\n",
    "\n",
    "This notebook lays the foundation for the other notebook (MNIST_DCGAN). Here we will analyze the discriminator and generator models to be used later in the GAN explorations."
   ]
  },
  {
   "cell_type": "code",
   "execution_count": 1,
   "metadata": {},
   "outputs": [],
   "source": [
    "import tensorflow as tf\n",
    "\n",
    "import matplotlib.pyplot as plt\n",
    "import matplotlib.gridspec as gridspec\n",
    "from mpl_toolkits.axes_grid1 import make_axes_locatable\n",
    "\n",
    "import numpy as np\n",
    "from scipy import interpolate\n",
    "from scipy.special import softmax\n",
    "\n",
    "import utilities as utils\n",
    "import models "
   ]
  },
  {
   "cell_type": "markdown",
   "metadata": {},
   "source": [
    "<br><br><br>\n",
    "\n",
    "# Data"
   ]
  },
  {
   "cell_type": "markdown",
   "metadata": {},
   "source": [
    "## Load Dataset"
   ]
  },
  {
   "cell_type": "code",
   "execution_count": 2,
   "metadata": {},
   "outputs": [
    {
     "name": "stdout",
     "output_type": "stream",
     "text": [
      "\tTrain set: (60000, 28, 28), (60000,)\n",
      "\tTest set:  (10000, 28, 28), (10000,)\n"
     ]
    }
   ],
   "source": [
    "train_set, test_set = tf.keras.datasets.mnist.load_data()\n",
    "print(f\"\\tTrain set: {train_set[0].shape}, {train_set[1].shape}\")\n",
    "print(f\"\\tTest set:  {test_set[0].shape}, {test_set[1].shape}\")"
   ]
  },
  {
   "cell_type": "markdown",
   "metadata": {},
   "source": [
    "## Random Image with Similar Statistics"
   ]
  },
  {
   "cell_type": "code",
   "execution_count": null,
   "metadata": {},
   "outputs": [],
   "source": [
    "x = train_set[0]\n",
    "heights, bins = np.histogram(x.flatten(), bins=200, density=True) \n",
    "\n",
    "cumulative_sum = np.cumsum(heights)\n",
    "cumulative_sum = np.append(0.0, cumulative_sum)\n",
    "cumulative_sum /= np.amax(cumulative_sum)\n",
    "\n",
    "f = interpolate.interp1d(cumulative_sum, bins)\n",
    "\n",
    "fig = plt.figure(figsize=(18., 4.))\n",
    "#\n",
    "ax = plt.subplot(1, 2, 1)\n",
    "ax.set_title(\"Histogram\")\n",
    "ax.bar(\n",
    "    0.5*(bins[1:] + bins[:-1]), \n",
    "    heights, width=(bins[1] - bins[0]), \n",
    "    align=\"center\", color=\"steelblue\", edgecolor=\"black\")\n",
    "ax.grid()\n",
    "ax.set_axisbelow(True)\n",
    "#\n",
    "ax = plt.subplot(1, 2, 2)\n",
    "ax.set_title(\"Cumulative Histogram\")\n",
    "ax.plot(bins, cumulative_sum, lw=2.0, color=\"steelblue\", label=\"original\")\n",
    "y = np.linspace(start=0.0, stop=1.0, num=20, endpoint=True)\n",
    "ax.plot(f(y), y, ls=\"\", marker=\"o\", markersize=5.0, color=\"salmon\", label=\"interpolated\")\n",
    "ax.legend()\n",
    "ax.set_ylim(0.0, 1.05)\n",
    "ax.grid()\n",
    "ax.set_axisbelow(True)\n",
    "#\n",
    "plt.show()"
   ]
  },
  {
   "cell_type": "code",
   "execution_count": null,
   "metadata": {},
   "outputs": [],
   "source": [
    "x_shape = train_set[0].shape\n",
    "x_size = np.prod(x_shape)\n",
    "fake_x_train = f(np.random.random(x_size)).reshape(x_shape)"
   ]
  },
  {
   "cell_type": "code",
   "execution_count": null,
   "metadata": {},
   "outputs": [],
   "source": [
    "fig = plt.figure(figsize=(18., 8.))\n",
    "#\n",
    "ax = plt.subplot(2, 1, 1)\n",
    "_, bins, _ = ax.hist(train_set[0].flatten(), bins=256, density=True, align=\"mid\", \n",
    "    rwidth=0.8, color=\"steelblue\", edgecolor=\"black\", alpha=0.5, label=\"Real\")\n",
    "ax.grid()\n",
    "ax.set_xlim(-1.0, 257.0)\n",
    "ax.set_yscale(\"log\")\n",
    "ax.set_axisbelow(True)\n",
    "#\n",
    "ax = plt.subplot(2, 1, 2, sharex=ax, sharey=ax)\n",
    "_, bins, _ = ax.hist(fake_x_train.flatten(), bins=bins, density=True, align=\"mid\", \n",
    "    rwidth=0.8, color=\"salmon\", edgecolor=\"black\", alpha=0.5, label=\"fake\")\n",
    "ax.grid()\n",
    "ax.set_axisbelow(True)\n",
    "#\n",
    "plt.show()"
   ]
  },
  {
   "cell_type": "markdown",
   "metadata": {},
   "source": [
    "## Generator Classes"
   ]
  },
  {
   "cell_type": "code",
   "execution_count": null,
   "metadata": {},
   "outputs": [],
   "source": [
    "generator = utils.MNIST_or_Noise_Sequence_Generator(\n",
    "    train_set[0][..., np.newaxis], fake_x_train[..., np.newaxis], 64)\n",
    "\n",
    "num_rows = 10\n",
    "num_cols = 10\n",
    "\n",
    "fig = plt.figure(figsize=(18., 18.))\n",
    "gs = gridspec.GridSpec(num_rows, num_cols)\n",
    "gs.update(wspace=0.025, hspace=0.05)\n",
    "for row in range(num_rows):\n",
    "    for col in range(num_cols):\n",
    "        idx = row * num_cols + col\n",
    "        ax = plt.subplot(gs[idx])\n",
    "        images, labels = generator[idx]\n",
    "        ax.imshow(images[-1,...], cmap=\"gray\")\n",
    "        if labels[-1]:\n",
    "            circ = plt.Circle((2.0, 2.0), 1.5, color=\"green\", alpha=1.0)\n",
    "            ax.add_patch(circ)\n",
    "        else:\n",
    "            circ = plt.Circle((2.0, 2.0), 1.5, color=\"red\", alpha=1.0)\n",
    "            ax.add_patch(circ)\n",
    "        ax.axis(\"off\")\n",
    "plt.show()"
   ]
  },
  {
   "cell_type": "markdown",
   "metadata": {},
   "source": [
    "To prevent the discriminator network from learning the obvious aggregation in the real images in the initial traiing phase, we scramble the real images:"
   ]
  },
  {
   "cell_type": "code",
   "execution_count": null,
   "metadata": {},
   "outputs": [],
   "source": [
    "scrambler = utils.Scrambler(train_set[0].shape[-2:])\n",
    "real_images = scrambler.scramble(train_set[0])\n",
    "generator = utils.MNIST_or_Noise_Sequence_Generator(\n",
    "    real_images[..., np.newaxis], fake_x_train[..., np.newaxis], 64)"
   ]
  },
  {
   "cell_type": "code",
   "execution_count": null,
   "metadata": {},
   "outputs": [],
   "source": [
    "unscramble_image = False\n",
    "\n",
    "num_rows = 10\n",
    "num_cols = 10\n",
    "\n",
    "fig = plt.figure(figsize=(18., 18.))\n",
    "gs = gridspec.GridSpec(num_rows, num_cols)\n",
    "gs.update(wspace=0.025, hspace=0.05)\n",
    "for row in range(num_rows):\n",
    "    for col in range(num_cols):\n",
    "        idx = row * num_cols + col\n",
    "        ax = plt.subplot(gs[idx])\n",
    "        images, labels = generator[idx]\n",
    "        if labels[-1]:\n",
    "            if unscramble_image:\n",
    "                ax.imshow(scrambler.unscramble(images[-1,...]), cmap=\"gray\")\n",
    "            else:\n",
    "                ax.imshow(images[-1,...], cmap=\"gray\")\n",
    "            circ = plt.Circle((2.0, 2.0), 1.5, color=\"green\", alpha=1.0)\n",
    "            ax.add_patch(circ)\n",
    "        else:\n",
    "            ax.imshow(images[-1,...], cmap=\"gray\")\n",
    "            circ = plt.Circle((2.0, 2.0), 1.5, color=\"red\", alpha=1.0)\n",
    "            ax.add_patch(circ)\n",
    "        ax.axis(\"off\")\n",
    "plt.show()"
   ]
  },
  {
   "cell_type": "markdown",
   "metadata": {},
   "source": [
    "<br><br><br>\n",
    "\n",
    "# Discriminator Model"
   ]
  },
  {
   "cell_type": "markdown",
   "metadata": {},
   "source": [
    "### Instantiate Model"
   ]
  },
  {
   "cell_type": "code",
   "execution_count": null,
   "metadata": {},
   "outputs": [],
   "source": [
    "discriminator_model = models.construct_discriminator_model()\n",
    "\n",
    "discriminator_model.summary(print_fn=(lambda *args: print(\"\\t\", *args)))"
   ]
  },
  {
   "cell_type": "markdown",
   "metadata": {},
   "source": [
    "### Compile Model"
   ]
  },
  {
   "cell_type": "code",
   "execution_count": null,
   "metadata": {},
   "outputs": [],
   "source": [
    "use_sgd_optimizer = True\n",
    "\n",
    "if use_sgd_optimizer:\n",
    "    optimizer = tf.keras.optimizers.SGD(\n",
    "        learning_rate=0.001, momentum=0.0, nesterov=False, name='SGD')\n",
    "else:\n",
    "    optimizer = tf.keras.optimizers.Adam(\n",
    "        learning_rate=0.001, beta_1=0.9, beta_2=0.999, \n",
    "        epsilon=1e-07, amsgrad=False, name='Adam')\n",
    "\n",
    "loss = tf.keras.losses.SparseCategoricalCrossentropy(\n",
    "    from_logits=False, name=\"crossentropy\")\n",
    "\n",
    "metrics = [\n",
    "    tf.keras.metrics.SparseCategoricalAccuracy(name=\"accuracy\")]\n",
    "\n",
    "discriminator_model.compile(loss=loss, optimizer=optimizer, metrics=metrics)"
   ]
  },
  {
   "cell_type": "markdown",
   "metadata": {},
   "source": [
    "### Train"
   ]
  },
  {
   "cell_type": "code",
   "execution_count": null,
   "metadata": {
    "scrolled": true
   },
   "outputs": [],
   "source": [
    "num_epochs = 3\n",
    "\n",
    "# Early stoppying callback:\n",
    "early_stopping_callback = tf.keras.callbacks.EarlyStopping(\n",
    "    monitor=\"loss\", \n",
    "    min_delta=0.0005, \n",
    "    patience=20, \n",
    "    verbose=1,\n",
    "    mode=\"min\", \n",
    "    baseline=None, \n",
    "    restore_best_weights=True)\n",
    "\n",
    "scrambler = utils.Scrambler(train_set[0].shape[-2:])\n",
    "real_images = scrambler.scramble(train_set[0])\n",
    "generator = utils.MNIST_or_Noise_Sequence_Generator(\n",
    "    real_images[..., np.newaxis], fake_x_train[..., np.newaxis], 64)\n",
    "\n",
    "# Fit model\n",
    "fit_history = discriminator_model.fit(\n",
    "    generator,\n",
    "    epochs=num_epochs,\n",
    "    verbose=1,\n",
    "    validation_data=None,\n",
    "    shuffle=True,\n",
    "    class_weight=None,\n",
    "    workers=8,\n",
    "    callbacks=[\n",
    "        early_stopping_callback\n",
    "    ])"
   ]
  },
  {
   "cell_type": "markdown",
   "metadata": {},
   "source": [
    "### Evaluate"
   ]
  },
  {
   "cell_type": "code",
   "execution_count": null,
   "metadata": {},
   "outputs": [],
   "source": [
    "x_shape = test_set[0].shape\n",
    "x_size = np.prod(x_shape)\n",
    "fake_x_test = f(np.random.random(x_size)).reshape(x_shape)\n",
    "\n",
    "real_images = scrambler.scramble(test_set[0])\n",
    "generator = utils.MNIST_or_Noise_Sequence_Generator(\n",
    "    real_images[..., np.newaxis], fake_x_test[..., np.newaxis], 64)\n",
    "\n",
    "eval_results = discriminator_model.evaluate(\n",
    "    generator, return_dict=True)\n",
    "for name, val in eval_results.items():\n",
    "    print(f\"{name}: {round(float(val), 5)}\")"
   ]
  },
  {
   "cell_type": "markdown",
   "metadata": {},
   "source": [
    "Okay, so far we have a discriminator that seems to be doing a good job."
   ]
  },
  {
   "cell_type": "markdown",
   "metadata": {},
   "source": [
    "<br><br><br>\n",
    "\n",
    "# Generator Model "
   ]
  },
  {
   "cell_type": "code",
   "execution_count": 3,
   "metadata": {},
   "outputs": [
    {
     "name": "stdout",
     "output_type": "stream",
     "text": [
      "\t Model: \"generator\"\n",
      "\t _________________________________________________________________\n",
      "\t Layer (type)                 Output Shape              Param #   \n",
      "\t =================================================================\n",
      "\t input_1 (InputLayer)         [(None, 10)]              0         \n",
      "\t _________________________________________________________________\n",
      "\t dense_1 (Dense)              (None, 256)               2816      \n",
      "\t _________________________________________________________________\n",
      "\t leaky_relu_1 (LeakyReLU)     (None, 256)               0         \n",
      "\t _________________________________________________________________\n",
      "\t dense_2 (Dense)              (None, 4096)              1052672   \n",
      "\t _________________________________________________________________\n",
      "\t leaky_relu_2 (LeakyReLU)     (None, 4096)              0         \n",
      "\t _________________________________________________________________\n",
      "\t reshape (Reshape)            (None, 4, 4, 256)         0         \n",
      "\t _________________________________________________________________\n",
      "\t deconv_1 (Conv2DTranspose)   (None, 11, 11, 128)       819200    \n",
      "\t _________________________________________________________________\n",
      "\t batch_norm_1 (BatchNormaliza (None, 11, 11, 128)       512       \n",
      "\t _________________________________________________________________\n",
      "\t leaky_relu_3 (LeakyReLU)     (None, 11, 11, 128)       0         \n",
      "\t _________________________________________________________________\n",
      "\t deconv_2 (Conv2DTranspose)   (None, 25, 25, 64)        204800    \n",
      "\t _________________________________________________________________\n",
      "\t batch_norm_2 (BatchNormaliza (None, 25, 25, 64)        256       \n",
      "\t _________________________________________________________________\n",
      "\t leaky_relu_4 (LeakyReLU)     (None, 25, 25, 64)        0         \n",
      "\t _________________________________________________________________\n",
      "\t deconv_3 (Conv2DTranspose)   (None, 28, 28, 1)         1024      \n",
      "\t _________________________________________________________________\n",
      "\t batch_norm_3 (BatchNormaliza (None, 28, 28, 1)         4         \n",
      "\t _________________________________________________________________\n",
      "\t output (Activation)          (None, 28, 28, 1)         0         \n",
      "\t =================================================================\n",
      "\t Total params: 2,081,284\n",
      "\t Trainable params: 2,080,898\n",
      "\t Non-trainable params: 386\n",
      "\t _________________________________________________________________\n"
     ]
    }
   ],
   "source": [
    "generator_model = models.construct_generator_model(\n",
    "    input_size=10, \n",
    "    output_activation=\"linear\",\n",
    "    with_batchnorm=True)\n",
    "\n",
    "generator_model.summary(print_fn=(lambda *args: print(\"\\t\", *args)))"
   ]
  },
  {
   "cell_type": "markdown",
   "metadata": {},
   "source": [
    "## Testing the Generator Model"
   ]
  },
  {
   "cell_type": "code",
   "execution_count": 4,
   "metadata": {},
   "outputs": [],
   "source": [
    "use_sgd_optimizer = False\n",
    "\n",
    "if use_sgd_optimizer:\n",
    "    optimizer = tf.keras.optimizers.SGD(\n",
    "        learning_rate=0.001, momentum=0.0, nesterov=False, name='SGD')\n",
    "else:\n",
    "    optimizer = tf.keras.optimizers.Adam(\n",
    "        learning_rate=0.001, beta_1=0.9, beta_2=0.999, \n",
    "        epsilon=1e-07, amsgrad=False, name='Adam')\n",
    "\n",
    "loss = tf.keras.losses.MeanSquaredError(name=\"mse\")\n",
    "\n",
    "generator_model.compile(loss=loss, optimizer=optimizer, metrics=[])"
   ]
  },
  {
   "cell_type": "code",
   "execution_count": 5,
   "metadata": {},
   "outputs": [
    {
     "name": "stdout",
     "output_type": "stream",
     "text": [
      "Epoch 1/4\n",
      "3750/3750 [==============================] - 231s 61ms/step - loss: 7122.1665\n",
      "Epoch 2/4\n",
      "3750/3750 [==============================] - 238s 63ms/step - loss: 3491.4448\n",
      "Epoch 3/4\n",
      "3750/3750 [==============================] - 227s 61ms/step - loss: 3487.8572\n",
      "Epoch 4/4\n",
      "3750/3750 [==============================] - 223s 60ms/step - loss: 3484.5938\n"
     ]
    }
   ],
   "source": [
    "num_epochs = 4\n",
    "\n",
    "# Early stoppying callback:\n",
    "early_stopping_callback = tf.keras.callbacks.EarlyStopping(\n",
    "    monitor=\"loss\", \n",
    "    min_delta=0.0005, \n",
    "    patience=20, \n",
    "    verbose=1,\n",
    "    mode=\"min\", \n",
    "    baseline=None, \n",
    "    restore_best_weights=True)\n",
    "\n",
    "# Fit model\n",
    "fit_history = generator_model.fit(\n",
    "    x=tf.keras.utils.to_categorical(train_set[1], 10),\n",
    "    y=train_set[0][..., np.newaxis],\n",
    "    batch_size=16,\n",
    "    epochs=num_epochs,\n",
    "    verbose=1,\n",
    "    validation_split=0.0,\n",
    "    shuffle=True,\n",
    "    class_weight=None,\n",
    "    workers=8,\n",
    "    callbacks=[\n",
    "        early_stopping_callback\n",
    "    ])"
   ]
  },
  {
   "cell_type": "code",
   "execution_count": 6,
   "metadata": {},
   "outputs": [
    {
     "data": {
      "image/png": "[encoded data removed]",
      "text/plain": [
       "<Figure size 1296x144 with 10 Axes>"
      ]
     },
     "metadata": {
      "needs_background": "light"
     },
     "output_type": "display_data"
    }
   ],
   "source": [
    "generated_images = generator_model.predict(tf.keras.utils.to_categorical(list(range(10)), 10))\n",
    "\n",
    "n = 1\n",
    "fig = plt.figure(figsize=(18., 2.))\n",
    "for image in generated_images:\n",
    "    ax = plt.subplot(1, 10, n)\n",
    "    ax.imshow(np.clip(image, 0.0, 255.0).astype(np.uint8), cmap=\"gray\")\n",
    "    ax.axis(\"off\")\n",
    "    n += 1\n",
    "plt.show()"
   ]
  },
  {
   "cell_type": "markdown",
   "metadata": {},
   "source": [
    "### Combining the hidden representations:\n",
    "\n",
    "Let's see what we get if we pass on defused distributions. The parameter `temperature` controls the sharpness of the input."
   ]
  },
  {
   "cell_type": "code",
   "execution_count": 7,
   "metadata": {},
   "outputs": [
    {
     "data": {
      "image/png": "[encoded data removed]",
      "text/plain": [
       "<Figure size 1296x720 with 24 Axes>"
      ]
     },
     "metadata": {
      "needs_background": "light"
     },
     "output_type": "display_data"
    }
   ],
   "source": [
    "temperature = 5.0\n",
    "hidden_reps = softmax(np.random.randn(32, 10) * temperature , axis=1)\n",
    "generated_images = generator_model.predict(hidden_reps)\n",
    "x = np.arange(10, dtype=np.float32)\n",
    "\n",
    "num_rows = 2\n",
    "num_cols = 6\n",
    "gs = gridspec.GridSpec(num_rows, num_cols)\n",
    "gs.update(wspace=0.05, hspace=0.1)\n",
    "fig = plt.figure(figsize=(18., 10.))\n",
    "for row in range(num_rows):\n",
    "    for col in range(num_cols):\n",
    "        idx = row * num_cols + col\n",
    "        ax = plt.subplot(gs[idx])\n",
    "        image = generated_images[idx, ...]\n",
    "        image = np.clip(image, 0.0, 255.0).astype(np.uint8)\n",
    "        ax.imshow(image, cmap=\"gray\")\n",
    "        ax.axis(\"off\")\n",
    "        #\n",
    "        divider = make_axes_locatable(ax)\n",
    "        bar_ax = divider.append_axes(\"bottom\", size=\"50%\", pad=0.0)\n",
    "        hidden_rep = hidden_reps[idx, ...]\n",
    "        bar_ax.bar(x, hidden_rep, width=0.8, align=\"center\", \n",
    "                   color=\"steelblue\", edgecolor=\"black\")\n",
    "        bar_ax.set_facecolor(\"lavender\")\n",
    "        bar_ax.set_xticks(x)\n",
    "        bar_ax.set_xticklabels(x.astype(np.int32))\n",
    "        bar_ax.set_ylim(0.0, 1.1)\n",
    "        bar_ax.set_yticks([0.0, 0.25, 0.5, 0.75, 1.0])\n",
    "        bar_ax.yaxis.grid()\n",
    "        bar_ax.set_axisbelow(True)\n",
    "        if col != 0:\n",
    "            bar_ax.set_yticklabels([])\n",
    "plt.show()"
   ]
  },
  {
   "cell_type": "code",
   "execution_count": null,
   "metadata": {},
   "outputs": [],
   "source": []
  }
 ],
 "metadata": {
  "kernelspec": {
   "display_name": "Python 3",
   "language": "python",
   "name": "python3"
  },
  "language_info": {
   "codemirror_mode": {
    "name": "ipython",
    "version": 3
   },
   "file_extension": ".py",
   "mimetype": "text/x-python",
   "name": "python",
   "nbconvert_exporter": "python",
   "pygments_lexer": "ipython3",
   "version": "3.7.9"
  }
 },
 "nbformat": 4,
 "nbformat_minor": 4
}
