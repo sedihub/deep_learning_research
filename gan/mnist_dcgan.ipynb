{
 "cells": [
  {
   "cell_type": "markdown",
   "metadata": {},
   "source": [
    "# Generative Adversarial Neural Network for the MNIST Dataset\n",
    "\n",
    "See the original GAN [paper](https://arxiv.org/pdf/1406.2661.pdf) and this Open AI [blog post](https://openai.com/blog/generative-models/) related to this [article](https://arxiv.org/abs/1606.03498).\n",
    "\n",
    "In implementing this, I have used some of the recommendations given in the [DCGAN paper](https://arxiv.org/pdf/1511.06434.pdf).\n",
    "\n",
    "Finally, TensorFlow has recently added a [blog post](https://www.tensorflow.org/tutorials/generative/dcgan) on a simple DCGAN for the MNIST dataset. While that tutorial is quite concise, there are some aspects that presumably require further clarification. I have deliberately set the size of hidden representation to a small number (~32). The main reason for this is that the MNIST data already is fairly restricted and the dataset has a much smaller information content than, say, CIFAR-10.  "
   ]
  },
  {
   "cell_type": "code",
   "execution_count": 1,
   "metadata": {},
   "outputs": [],
   "source": [
    "import tensorflow as tf\n",
    "\n",
    "import matplotlib.pyplot as plt\n",
    "import matplotlib.gridspec as gridspec\n",
    "\n",
    "import numpy as np\n",
    "\n",
    "from tqdm.notebook import tqdm\n",
    "\n",
    "from IPython.display import clear_output\n",
    "\n",
    "import utilities as utils\n",
    "import models "
   ]
  },
  {
   "cell_type": "markdown",
   "metadata": {},
   "source": [
    "<br><br><br>\n",
    "\n",
    "# Training Parameters "
   ]
  },
  {
   "cell_type": "code",
   "execution_count": 2,
   "metadata": {},
   "outputs": [],
   "source": [
    "batch_size = 16 #256\n",
    "num_epochs = 100\n",
    "generator_input_size = 16"
   ]
  },
  {
   "cell_type": "markdown",
   "metadata": {},
   "source": [
    "<br><br><br>\n",
    "\n",
    "# Input Data Pipeline"
   ]
  },
  {
   "cell_type": "markdown",
   "metadata": {},
   "source": [
    "## Load MNIST Dataset"
   ]
  },
  {
   "cell_type": "code",
   "execution_count": 3,
   "metadata": {},
   "outputs": [
    {
     "name": "stdout",
     "output_type": "stream",
     "text": [
      "\tTrain set: (60000, 28, 28), (60000,)\n",
      "\tTest set:  (10000, 28, 28), (10000,)\n"
     ]
    }
   ],
   "source": [
    "train_set, test_set = tf.keras.datasets.mnist.load_data()\n",
    "print(f\"\\tTrain set: {train_set[0].shape}, {train_set[1].shape}\")\n",
    "print(f\"\\tTest set:  {test_set[0].shape}, {test_set[1].shape}\")"
   ]
  },
  {
   "cell_type": "markdown",
   "metadata": {},
   "source": [
    "## Setup Data Pipeline:"
   ]
  },
  {
   "cell_type": "code",
   "execution_count": 4,
   "metadata": {},
   "outputs": [
    {
     "name": "stdout",
     "output_type": "stream",
     "text": [
      "\t (16, 28, 28, 1) ,  float32 \t (16, 16) ,  float32\n",
      "\t (16, 28, 28, 1) ,  float32 \t (16, 16) ,  float32\n",
      "\t (16, 28, 28, 1) ,  float32 \t (16, 16) ,  float32\n",
      "\t\t.\n",
      "\t\t.\n",
      "\t\t.\n",
      "\n"
     ]
    }
   ],
   "source": [
    "dataset = tf.data.Dataset.from_tensor_slices(train_set[0])\n",
    "dataset = dataset.batch(batch_size, drop_remainder=True)\n",
    "\n",
    "def include_gen_model_input(\n",
    "    x, batch_size=batch_size, \n",
    "    generator_input_size=generator_input_size,\n",
    "    uniform_dist=True):\n",
    "    if uniform_dist:\n",
    "        x_gen = tf.random.uniform(\n",
    "            shape=(batch_size, generator_input_size), \n",
    "            minval=0.0, maxval=1.0, dtype=tf.dtypes.float32)\n",
    "    else:    \n",
    "        x_gen = tf.random.normal(\n",
    "            shape=(batch_size, generator_input_size), \n",
    "            mean=0.0, stddev=1.0, dtype=tf.dtypes.float32)\n",
    "    x = tf.cast(x, dtype=tf.float32)\n",
    "    x = tf.expand_dims(x, axis=-1)\n",
    "    return (x, x_gen)\n",
    "dataset = dataset.map(include_gen_model_input)\n",
    "\n",
    "# Draw samples from the data pipeline\n",
    "for element in dataset.take(3):\n",
    "    print(\"\\t\", element[0].shape, \", \", element[0].dtype.name, \n",
    "          \"\\t\", element[1].shape, \", \", element[1].dtype.name)\n",
    "print(\"\\t\\t.\\n\"*3)"
   ]
  },
  {
   "cell_type": "markdown",
   "metadata": {},
   "source": [
    "<br><br><br>\n",
    "\n",
    "# Train the Generator Model in an Adversarial Setting"
   ]
  },
  {
   "cell_type": "markdown",
   "metadata": {},
   "source": [
    "## Instantiate Discriminator and Generator Models"
   ]
  },
  {
   "cell_type": "code",
   "execution_count": 5,
   "metadata": {
    "scrolled": true
   },
   "outputs": [
    {
     "name": "stdout",
     "output_type": "stream",
     "text": [
      "\t Model: \"discriminator\"\n",
      "\t _________________________________________________________________\n",
      "\t Layer (type)                 Output Shape              Param #   \n",
      "\t =================================================================\n",
      "\t input_1 (InputLayer)         [(None, 28, 28, 1)]       0         \n",
      "\t _________________________________________________________________\n",
      "\t conv_1 (Conv2D)              (None, 28, 28, 8)         208       \n",
      "\t _________________________________________________________________\n",
      "\t leaky_relu_1 (LeakyReLU)     (None, 28, 28, 8)         0         \n",
      "\t _________________________________________________________________\n",
      "\t conv_2 (Conv2D)              (None, 28, 28, 32)        6432      \n",
      "\t _________________________________________________________________\n",
      "\t leaky_relu_2 (LeakyReLU)     (None, 28, 28, 32)        0         \n",
      "\t _________________________________________________________________\n",
      "\t flatten (Flatten)            (None, 25088)             0         \n",
      "\t _________________________________________________________________\n",
      "\t output (Dense)               (None, 2)                 50178     \n",
      "\t =================================================================\n",
      "\t Total params: 56,818\n",
      "\t Trainable params: 56,818\n",
      "\t Non-trainable params: 0\n",
      "\t _________________________________________________________________\n",
      "\n",
      "\n",
      "\n",
      "\t Model: \"generator\"\n",
      "\t _________________________________________________________________\n",
      "\t Layer (type)                 Output Shape              Param #   \n",
      "\t =================================================================\n",
      "\t input_2 (InputLayer)         [(None, 16)]              0         \n",
      "\t _________________________________________________________________\n",
      "\t dense_1 (Dense)              (None, 4096)              69632     \n",
      "\t _________________________________________________________________\n",
      "\t leaky_relu_1 (LeakyReLU)     (None, 4096)              0         \n",
      "\t _________________________________________________________________\n",
      "\t reshape (Reshape)            (None, 4, 4, 256)         0         \n",
      "\t _________________________________________________________________\n",
      "\t deconv_1 (Conv2DTranspose)   (None, 11, 11, 128)       819200    \n",
      "\t _________________________________________________________________\n",
      "\t batch_norm_1 (BatchNormaliza (None, 11, 11, 128)       512       \n",
      "\t _________________________________________________________________\n",
      "\t leaky_relu_2 (LeakyReLU)     (None, 11, 11, 128)       0         \n",
      "\t _________________________________________________________________\n",
      "\t deconv_2 (Conv2DTranspose)   (None, 25, 25, 64)        204800    \n",
      "\t _________________________________________________________________\n",
      "\t batch_norm_2 (BatchNormaliza (None, 25, 25, 64)        256       \n",
      "\t _________________________________________________________________\n",
      "\t leaky_relu_3 (LeakyReLU)     (None, 25, 25, 64)        0         \n",
      "\t _________________________________________________________________\n",
      "\t deconv_3 (Conv2DTranspose)   (None, 28, 28, 1)         1024      \n",
      "\t _________________________________________________________________\n",
      "\t batch_norm_3 (BatchNormaliza (None, 28, 28, 1)         4         \n",
      "\t _________________________________________________________________\n",
      "\t output (Activation)          (None, 28, 28, 1)         0         \n",
      "\t =================================================================\n",
      "\t Total params: 1,095,428\n",
      "\t Trainable params: 1,095,042\n",
      "\t Non-trainable params: 386\n",
      "\t _________________________________________________________________\n"
     ]
    }
   ],
   "source": [
    "# Instantiate\n",
    "discriminator_model = models.construct_discriminator_model(\n",
    "    activation=\"leakyrelu\", output_softmax=False)\n",
    "generator_model = models.construct_generator_model(\n",
    "        input_size=generator_input_size, \n",
    "        output_activation=\"linear\",\n",
    "        with_batchnorm=True)\n",
    "\n",
    "# Print Summaries\n",
    "discriminator_model.summary(print_fn=(lambda *args: print(\"\\t\", *args)))\n",
    "print(\"\\n\\n\")\n",
    "generator_model.summary(print_fn=(lambda *args: print(\"\\t\", *args)))"
   ]
  },
  {
   "cell_type": "markdown",
   "metadata": {},
   "source": [
    "## Create and Initialize the Custom GAN Training Class"
   ]
  },
  {
   "cell_type": "code",
   "execution_count": 6,
   "metadata": {},
   "outputs": [],
   "source": [
    "# optimizer = tf.keras.optimizers.SGD(\n",
    "#     learning_rate=0.0001, \n",
    "#     momentum=0.0, nesterov=False, name=\"SGD\")\n",
    "optimizer = tf.keras.optimizers.Adam(\n",
    "    learning_rate=0.0001, name=\"adam\")\n",
    "\n",
    "train_gan = models.Train_GAN_Modules(\n",
    "    discriminator_model=discriminator_model,\n",
    "    generator_model=generator_model,\n",
    "    batch_size=batch_size,\n",
    "    optimizer=optimizer,\n",
    "    from_logits=True)"
   ]
  },
  {
   "cell_type": "markdown",
   "metadata": {},
   "source": [
    "## Write GAN Training Graph to TensorBoard File"
   ]
  },
  {
   "cell_type": "code",
   "execution_count": 7,
   "metadata": {},
   "outputs": [],
   "source": [
    "write_to_tensorboard = False\n",
    "\n",
    "if write_to_tensorboard:\n",
    "    writer = tf.summary.create_file_writer(\"./logdir\")\n",
    "\n",
    "    tf.summary.trace_on(graph=True, profiler=False)\n",
    "\n",
    "    output = train_gan._train_step(\n",
    "        tf.zeros((batch_size, 28, 28, 1), dtype=tf.float32), \n",
    "        tf.zeros((batch_size, generator_input_size), dtype=tf.float32), \n",
    "        train_gan._batch_of_ones, train_gan._batch_of_zeros)\n",
    "\n",
    "    with writer.as_default():\n",
    "        tf.summary.trace_export(\n",
    "            name=\"_train_step_trace\",\n",
    "            step=0,\n",
    "            profiler_outdir=\"./logdir\")"
   ]
  },
  {
   "cell_type": "markdown",
   "metadata": {},
   "source": [
    "## Sample of Generated Images before Training:"
   ]
  },
  {
   "cell_type": "code",
   "execution_count": 8,
   "metadata": {},
   "outputs": [
    {
     "data": {
      "image/png": "[encoded data removed]",
      "text/plain": [
       "<Figure size 1296x648 with 50 Axes>"
      ]
     },
     "metadata": {
      "needs_background": "light"
     },
     "output_type": "display_data"
    }
   ],
   "source": [
    "num_rows = 5\n",
    "num_cols = 10\n",
    "\n",
    "# Generate some images:\n",
    "x = tf.random.normal(\n",
    "    shape=(num_rows * num_cols, generator_input_size), \n",
    "    mean=0.0, stddev=1.0, dtype=tf.dtypes.float32)\n",
    "images = train_gan.generator_model(x).numpy()\n",
    "\n",
    "fig = plt.figure(figsize=(18., 9.))\n",
    "gs = gridspec.GridSpec(num_rows, num_cols)\n",
    "gs.update(wspace=0.05, hspace=0.05)\n",
    "for row in range(num_rows):\n",
    "    for col in range(num_cols):\n",
    "        idx = row * num_cols + col\n",
    "        ax = plt.subplot(gs[idx])\n",
    "        image = images[idx]\n",
    "        image = np.clip(image, 0.0, 255.0).astype(np.uint8)\n",
    "        #\n",
    "        ax.imshow(image, cmap=\"gray\")\n",
    "        ax.axis(\"off\")\n",
    "plt.show()"
   ]
  },
  {
   "cell_type": "markdown",
   "metadata": {},
   "source": [
    "## Train the GAN Model"
   ]
  },
  {
   "cell_type": "code",
   "execution_count": null,
   "metadata": {
    "scrolled": true
   },
   "outputs": [
    {
     "name": "stdout",
     "output_type": "stream",
     "text": [
      "\n",
      "Epoch 11/100 Avg. Losses:\n",
      "\tDiscriminator Loss       0.17039\n",
      "\tGenerator Loss           51.76405\n",
      "\n",
      "Epoch 12/100\n"
     ]
    },
    {
     "data": {
      "application/vnd.jupyter.widget-view+json": {
       "model_id": "253d55673ba64dbfaae635fcc61744e8",
       "version_major": 2,
       "version_minor": 0
      },
      "text/plain": [
       "  0%|          |0/3750 [00:00 < ?, ?it/s] "
      ]
     },
     "metadata": {},
     "output_type": "display_data"
    }
   ],
   "source": [
    "learning_rate_decay = None  # Set to `None` to disable learning rate decay\n",
    "\n",
    "pbar_format = \"{percentage:3.0f}%|{bar}|{n_fmt}/{total_fmt} [{elapsed} < {remaining}, {rate_fmt}{postfix}] {desc}\"\n",
    "train_history = []\n",
    "for epoch in range(1, num_epochs + 1):\n",
    "    print(f\"\\nEpoch {epoch}/{num_epochs}\", flush=True)\n",
    "    if learning_rate_decay is not None:\n",
    "        print(f\"\\nLearning Rate: {tf.keras.backend.eval(train_gan.optimizer.learning_rate):2.2e}\")\n",
    "    train_gan.reset_accumulated_losses()\n",
    "    pbar = tqdm(dataset.take(-1).enumerate(start=1), bar_format=pbar_format)\n",
    "    for idx, element in pbar: \n",
    "        image_batch, generator_input_batch = element\n",
    "        losses = train_gan.train_step(\n",
    "            image_batch,\n",
    "            generator_input_batch)\n",
    "        pbar.set_description_str(f\"Losses: (Disc: {round(losses[0], 3)}, Gen: {round(losses[1], 3)})\")\n",
    "        train_history.append([l for l in losses])\n",
    "    #\n",
    "    ## Clear output:\n",
    "    clear_output(wait=True)\n",
    "    #\n",
    "    ## Print avg. previous epoch loss\n",
    "    print(f\"\\nEpoch {epoch}/{num_epochs} Avg. Losses:\", flush=True)\n",
    "    accumulated_losses = train_gan.get_accumulated_losses()\n",
    "    for loss_name, loss_val in accumulated_losses.items():\n",
    "        print(f\"\\t{loss_name:24} {round(loss_val, 5)}\", flush=True)\n",
    "    #\n",
    "    ## Set new learning rate:\n",
    "    if learning_rate_decay is not None:\n",
    "        lr = tf.keras.backend.eval(train_gan.optimizer.learning_rate)\n",
    "        tf.keras.backend.set_value(train_gan.optimizer.learning_rate, lr * learning_rate_decay)"
   ]
  },
  {
   "cell_type": "code",
   "execution_count": null,
   "metadata": {},
   "outputs": [],
   "source": [
    "# Plot training history:\n",
    "losses_array = np.array(train_history, dtype=np.float32)\n",
    "\n",
    "fig = plt.figure(figsize=(18., 6.))\n",
    "#\n",
    "plt.title(\"Full Training History\", fontsize=16., color=\"darkgray\")\n",
    "plt.xlabel(\"Batch Number\", fontsize=14., color=\"darkgray\")\n",
    "plt.ylabel(\"CE Loss\", fontsize=14., color=\"darkgray\")\n",
    "plt.plot(losses_array[:, 0], lw=2, c=\"steelblue\", alpha=0.75, label=\"Discriminator\")\n",
    "plt.plot(losses_array[:, 1], lw=2, c=\"salmon\", alpha=0.75, label=\"Generator\")\n",
    "plt.grid()\n",
    "plt.gca().set_axisbelow(True)\n",
    "plt.legend(fontsize=14)\n",
    "plt.yscale(\"log\")\n",
    "#\n",
    "plt.show()"
   ]
  },
  {
   "cell_type": "markdown",
   "metadata": {},
   "source": [
    "<br><br><br>\n",
    "\n",
    "# Generate Images"
   ]
  },
  {
   "cell_type": "code",
   "execution_count": null,
   "metadata": {},
   "outputs": [],
   "source": [
    "num_rows = 5\n",
    "num_cols = 10\n",
    "\n",
    "# Generate some images:\n",
    "x = tf.random.normal(\n",
    "    shape=(num_rows * num_cols, generator_input_size), \n",
    "    mean=0.0, stddev=1.0, dtype=tf.dtypes.float32)\n",
    "images = train_gan.generator_model(x).numpy()\n",
    "\n",
    "fig = plt.figure(figsize=(18., 9.))\n",
    "gs = gridspec.GridSpec(num_rows, num_cols)\n",
    "gs.update(wspace=0.05, hspace=0.05)\n",
    "for row in range(num_rows):\n",
    "    for col in range(num_cols):\n",
    "        idx = row * num_cols + col\n",
    "        ax = plt.subplot(gs[idx])\n",
    "        image = images[idx]\n",
    "        image = np.clip(image, 0.0, 255.0).astype(np.uint8)\n",
    "        #\n",
    "        ax.imshow(image, cmap=\"gray\")\n",
    "        ax.axis(\"off\")\n",
    "plt.show()"
   ]
  },
  {
   "cell_type": "markdown",
   "metadata": {},
   "source": [
    "<br><br><br>\n",
    "\n",
    "# Save Models"
   ]
  },
  {
   "cell_type": "code",
   "execution_count": null,
   "metadata": {},
   "outputs": [],
   "source": [
    "train_gan.discriminator_model.save(\n",
    "    filepath=\"discriminator_model.h5\", \n",
    "    overwrite=True, include_optimizer=False, save_format=\"h5\")"
   ]
  },
  {
   "cell_type": "code",
   "execution_count": null,
   "metadata": {},
   "outputs": [],
   "source": [
    "train_gan.generator_model.save(\n",
    "    filepath=\"generator_model.h5\", \n",
    "    overwrite=True, include_optimizer=False, save_format=\"h5\")"
   ]
  },
  {
   "cell_type": "code",
   "execution_count": null,
   "metadata": {},
   "outputs": [],
   "source": []
  }
 ],
 "metadata": {
  "kernelspec": {
   "display_name": "Python 3",
   "language": "python",
   "name": "python3"
  },
  "language_info": {
   "codemirror_mode": {
    "name": "ipython",
    "version": 3
   },
   "file_extension": ".py",
   "mimetype": "text/x-python",
   "name": "python",
   "nbconvert_exporter": "python",
   "pygments_lexer": "ipython3",
   "version": "3.8.7"
  }
 },
 "nbformat": 4,
 "nbformat_minor": 4
}
