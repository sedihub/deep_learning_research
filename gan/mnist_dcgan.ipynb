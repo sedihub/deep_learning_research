{
 "cells": [
  {
   "cell_type": "markdown",
   "metadata": {},
   "source": [
    "# Generative Adversarial Neural Network for the MNIST Dataset\n",
    "\n",
    "See the original GAN [paper](https://arxiv.org/pdf/1406.2661.pdf) and this Open AI [blog post](https://openai.com/blog/generative-models/) related to this [article](https://arxiv.org/abs/1606.03498).\n",
    "\n",
    "In implementing this, I have used some of the recommendations given in the [DCGAN paper](https://arxiv.org/pdf/1511.06434.pdf).\n",
    "\n",
    "Finally, TensorFlow has recently added a [blog post](https://www.tensorflow.org/tutorials/generative/dcgan) on a simple DCGAN for the MNIST dataset. While that tutorial is quite concise, there are some aspects that presumably require further clarification. I have deliberately set the size of hidden representation to a small number (~32). The main reason for this is that the MNIST data already is fairly restricted and the dataset has a much smaller information content than, say, CIFAR-10.  "
   ]
  },
  {
   "cell_type": "code",
   "execution_count": null,
   "metadata": {},
   "outputs": [],
   "source": [
    "import tensorflow as tf\n",
    "\n",
    "import matplotlib.pyplot as plt\n",
    "import matplotlib.gridspec as gridspec\n",
    "\n",
    "import numpy as np\n",
    "\n",
    "from tqdm.notebook import tqdm\n",
    "\n",
    "from IPython.display import clear_output\n",
    "\n",
    "import utilities as utils\n",
    "import models "
   ]
  },
  {
   "cell_type": "markdown",
   "metadata": {},
   "source": [
    "<br><br><br>\n",
    "\n",
    "# Training Parameters "
   ]
  },
  {
   "cell_type": "code",
   "execution_count": null,
   "metadata": {},
   "outputs": [],
   "source": [
    "batch_size = 64 #256\n",
    "num_epochs = 50\n",
    "generator_input_size = 32"
   ]
  },
  {
   "cell_type": "markdown",
   "metadata": {},
   "source": [
    "<br><br><br>\n",
    "\n",
    "# Input Data Pipeline"
   ]
  },
  {
   "cell_type": "markdown",
   "metadata": {},
   "source": [
    "## Load MNIST Dataset"
   ]
  },
  {
   "cell_type": "code",
   "execution_count": null,
   "metadata": {},
   "outputs": [],
   "source": [
    "train_set, test_set = tf.keras.datasets.mnist.load_data()\n",
    "print(f\"\\tTrain set: {train_set[0].shape}, {train_set[1].shape}\")\n",
    "print(f\"\\tTest set:  {test_set[0].shape}, {test_set[1].shape}\")"
   ]
  },
  {
   "cell_type": "markdown",
   "metadata": {},
   "source": [
    "## Setup Data Pipeline:"
   ]
  },
  {
   "cell_type": "code",
   "execution_count": null,
   "metadata": {},
   "outputs": [],
   "source": [
    "dataset = tf.data.Dataset.from_tensor_slices(train_set[0])\n",
    "dataset = dataset.batch(batch_size, drop_remainder=True)\n",
    "\n",
    "def include_gen_model_input(\n",
    "    x, batch_size=batch_size, \n",
    "    generator_input_size=generator_input_size,\n",
    "    uniform_dist=True):\n",
    "    if uniform_dist:\n",
    "        x_gen = tf.random.uniform(\n",
    "            shape=(batch_size, generator_input_size), \n",
    "            minval=0.0, maxval=1.0, dtype=tf.dtypes.float32)\n",
    "    else:    \n",
    "        x_gen = tf.random.normal(\n",
    "            shape=(batch_size, generator_input_size), \n",
    "            mean=0.0, stddev=1.0, dtype=tf.dtypes.float32)\n",
    "    return (x, x_gen)\n",
    "dataset = dataset.map(include_gen_model_input)\n",
    "\n",
    "# Draw samples from the data pipeline\n",
    "for element in dataset.take(3):\n",
    "    print(\"\\t\", element[0].shape, \"\\t\", element[1].shape, \", \", tf.math.reduce_mean(element[1]))"
   ]
  },
  {
   "cell_type": "markdown",
   "metadata": {},
   "source": [
    "<br><br><br>\n",
    "\n",
    "# Train the Generator Model in an Adversarial Setting"
   ]
  },
  {
   "cell_type": "markdown",
   "metadata": {},
   "source": [
    "## Instantiate Discriminator and Generator Models"
   ]
  },
  {
   "cell_type": "code",
   "execution_count": null,
   "metadata": {
    "scrolled": true
   },
   "outputs": [],
   "source": [
    "# Instantiate\n",
    "discriminator_model = models.construct_discriminator_model()\n",
    "generator_model = models.construct_generator_model(\n",
    "        input_size=generator_input_size, \n",
    "        output_activation=\"sigmoid\",  \n",
    "        with_batchnorm=True)\n",
    "\n",
    "# Print Summaries\n",
    "discriminator_model.summary(print_fn=(lambda *args: print(\"\\t\", *args)))\n",
    "print(\"\\n\\n\")\n",
    "generator_model.summary(print_fn=(lambda *args: print(\"\\t\", *args)))"
   ]
  },
  {
   "cell_type": "markdown",
   "metadata": {},
   "source": [
    "## Create and Initialize the Custom GAN Training Class"
   ]
  },
  {
   "cell_type": "code",
   "execution_count": null,
   "metadata": {},
   "outputs": [],
   "source": [
    "# optimizer = tf.keras.optimizers.SGD(\n",
    "#     learning_rate=1.0e-2, \n",
    "#     momentum=0.0, nesterov=False, name=\"SGD\")\n",
    "optimizer = tf.keras.optimizers.Adam(0.0001)\n",
    "\n",
    "train_gan = models.Train_GAN_Modules(\n",
    "    discriminator_model=discriminator_model,\n",
    "    generator_model=generator_model,\n",
    "    batch_size=batch_size,\n",
    "    optimizer=optimizer)"
   ]
  },
  {
   "cell_type": "markdown",
   "metadata": {},
   "source": [
    "## Sample of Generated Images before Training:"
   ]
  },
  {
   "cell_type": "code",
   "execution_count": null,
   "metadata": {},
   "outputs": [],
   "source": [
    "num_rows = 5\n",
    "num_cols = 10\n",
    "\n",
    "# Generate some images:\n",
    "x = tf.random.normal(\n",
    "    shape=(num_rows * num_cols, generator_input_size), \n",
    "    mean=0.0, stddev=1.0, dtype=tf.dtypes.float32)\n",
    "images = train_gan.generator_model(x).numpy()\n",
    "\n",
    "fig = plt.figure(figsize=(18., 9.))\n",
    "gs = gridspec.GridSpec(num_rows, num_cols)\n",
    "gs.update(wspace=0.05, hspace=0.05)\n",
    "for row in range(num_rows):\n",
    "    for col in range(num_cols):\n",
    "        idx = row * num_cols + col\n",
    "        ax = plt.subplot(gs[idx])\n",
    "        image = images[idx]\n",
    "        image = np.clip(image, 0.0, 255.0).astype(np.uint8)\n",
    "        #\n",
    "        ax.imshow(image, cmap=\"gray\")\n",
    "        ax.axis(\"off\")\n",
    "plt.show()"
   ]
  },
  {
   "cell_type": "markdown",
   "metadata": {},
   "source": [
    "## Train the GAN Model"
   ]
  },
  {
   "cell_type": "code",
   "execution_count": null,
   "metadata": {
    "scrolled": true
   },
   "outputs": [],
   "source": [
    "learning_rate_decay = 0.9  # Set to `None` to disable learning rate decay\n",
    "\n",
    "pbar_format = \"{percentage:3.0f}%|{bar}|{n_fmt}/{total_fmt} [{elapsed} < {remaining}, {rate_fmt}{postfix}] {desc}\"\n",
    "train_history = []\n",
    "for epoch in range(1, num_epochs + 1):\n",
    "    print(f\"\\nEpoch {epoch}/{num_epochs}\", flush=True)\n",
    "    if learning_rate_decay is not None:\n",
    "        print(f\"\\nLearning Rate: {tf.keras.backend.eval(train_gan.optimizer.learning_rate):2.2e}\")\n",
    "    train_gan.reset_accumulated_losses()\n",
    "    pbar = tqdm(dataset.take(-1).enumerate(start=1), bar_format=pbar_format)\n",
    "    for idx, element in pbar: \n",
    "        image_batch, generator_input_batch = element\n",
    "        losses = train_gan.train_step(\n",
    "            image_batch,\n",
    "            generator_input_batch)\n",
    "        pbar.set_description_str(f\"Losses: (Disc: {round(losses[0], 3)}, Gen: {round(losses[1], 3)})\")\n",
    "        train_history.append([l for l in losses])\n",
    "    #\n",
    "    ## Clear output:\n",
    "    clear_output(wait=True)\n",
    "    #\n",
    "    ## Print avg. previous epoch loss\n",
    "    print(f\"\\nEpoch {epoch}/{num_epochs} Avg. Losses:\", flush=True)\n",
    "    accumulated_losses = train_gan.get_accumulated_losses()\n",
    "    for loss_name, loss_val in accumulated_losses.items():\n",
    "        print(f\"\\t{loss_name:24} {round(loss_val, 5)}\", flush=True)\n",
    "    #\n",
    "    ## Set new learning rate:\n",
    "    if learning_rate_decay is not None:\n",
    "        lr = tf.keras.backend.eval(train_gan.optimizer.learning_rate)\n",
    "        tf.keras.backend.set_value(train_gan.optimizer.learning_rate, lr * learning_rate_decay)"
   ]
  },
  {
   "cell_type": "code",
   "execution_count": null,
   "metadata": {},
   "outputs": [],
   "source": [
    "# Plot training history:\n",
    "losses_array = np.array(train_history, dtype=np.float32)\n",
    "\n",
    "fig = plt.figure(figsize=(18., 6.))\n",
    "#\n",
    "plt.title(\"Full Training History\", fontsize=16., color=\"darkgray\")\n",
    "plt.xlabel(\"Batch Number\", fontsize=14., color=\"darkgray\")\n",
    "plt.ylabel(\"CE Loss\", fontsize=14., color=\"darkgray\")\n",
    "plt.plot(losses_array[:, 0], lw=2, c=\"steelblue\", alpha=0.75, label=\"Discriminator\")\n",
    "plt.plot(losses_array[:, 1], lw=2, c=\"salmon\", alpha=0.75, label=\"Generator\")\n",
    "plt.grid()\n",
    "plt.gca().set_axisbelow(True)\n",
    "plt.legend(fontsize=14)\n",
    "plt.yscale(\"log\")\n",
    "#\n",
    "plt.show()"
   ]
  },
  {
   "cell_type": "markdown",
   "metadata": {},
   "source": [
    "<br><br><br>\n",
    "\n",
    "# Generate Images"
   ]
  },
  {
   "cell_type": "code",
   "execution_count": null,
   "metadata": {},
   "outputs": [],
   "source": [
    "num_rows = 5\n",
    "num_cols = 10\n",
    "\n",
    "# Generate some images:\n",
    "x = tf.random.normal(\n",
    "    shape=(num_rows * num_cols, generator_input_size), \n",
    "    mean=0.0, stddev=1.0, dtype=tf.dtypes.float32)\n",
    "images = train_gan.generator_model(x).numpy()\n",
    "\n",
    "fig = plt.figure(figsize=(18., 9.))\n",
    "gs = gridspec.GridSpec(num_rows, num_cols)\n",
    "gs.update(wspace=0.05, hspace=0.05)\n",
    "for row in range(num_rows):\n",
    "    for col in range(num_cols):\n",
    "        idx = row * num_cols + col\n",
    "        ax = plt.subplot(gs[idx])\n",
    "        image = images[idx]\n",
    "        image = np.clip(image, 0.0, 255.0).astype(np.uint8)\n",
    "        #\n",
    "        ax.imshow(image, cmap=\"gray\")\n",
    "        ax.axis(\"off\")\n",
    "plt.show()"
   ]
  },
  {
   "cell_type": "code",
   "execution_count": null,
   "metadata": {},
   "outputs": [],
   "source": []
  }
 ],
 "metadata": {
  "kernelspec": {
   "display_name": "Python 3",
   "language": "python",
   "name": "python3"
  },
  "language_info": {
   "codemirror_mode": {
    "name": "ipython",
    "version": 3
   },
   "file_extension": ".py",
   "mimetype": "text/x-python",
   "name": "python",
   "nbconvert_exporter": "python",
   "pygments_lexer": "ipython3",
   "version": "3.7.9"
  }
 },
 "nbformat": 4,
 "nbformat_minor": 4
}
